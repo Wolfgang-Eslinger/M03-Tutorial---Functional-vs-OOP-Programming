{
 "cells": [
  {
   "cell_type": "code",
   "execution_count": 1,
   "id": "4915c23f",
   "metadata": {},
   "outputs": [],
   "source": [
    "#Your Task:\n",
    "#You don't need to read input or print anything. Your task is to complete the function sort012() that takes an array arr and N as input parameters and sorts the array in-place."
   ]
  },
  {
   "cell_type": "code",
   "execution_count": 5,
   "id": "e3b9d09b",
   "metadata": {},
   "outputs": [
    {
     "name": "stdout",
     "output_type": "stream",
     "text": [
      "[0, 0, 1, 2, 2]\n",
      "[0, 0, 1]\n"
     ]
    }
   ],
   "source": [
    "# User function Template for python3\n",
    "\n",
    "class Solution:\n",
    "    def sort012(self, arr, n):\n",
    "        # Initialize pointers\n",
    "        low = 0\n",
    "        mid = 0\n",
    "        high = n - 1\n",
    "\n",
    "        # Iterate through the array\n",
    "        while mid <= high:\n",
    "            if arr[mid] == 0:\n",
    "                arr[low], arr[mid] = arr[mid], arr[low]\n",
    "                low += 1\n",
    "                mid += 1\n",
    "            elif arr[mid] == 1:\n",
    "                mid += 1\n",
    "            else:\n",
    "                arr[mid], arr[high] = arr[high], arr[mid]\n",
    "                high -= 1\n",
    "\n",
    "        # The array is sorted in-place, so no need to return it\n",
    "\n",
    "# Example usage\n",
    "sol = Solution()\n",
    "arr = [0, 2, 1, 2, 0]\n",
    "sol.sort012(arr, len(arr))\n",
    "print(arr)  # Output: 0 0 1 2 2\n",
    "\n",
    "arr2 = [0, 1, 0]\n",
    "sol.sort012(arr2, len(arr2))\n",
    "print(arr2)  # Output: 0 0 1\n",
    "\n",
    "#This took awhile, had to use the editorial for the last part."
   ]
  },
  {
   "cell_type": "code",
   "execution_count": 7,
   "id": "58959808",
   "metadata": {},
   "outputs": [],
   "source": [
    "#Your Task:  \n",
    "#You dont need to read input or print anything. Complete the function binarysearch() which takes arr[], N and K as input parameters and returns the index of K in the array. If K is not present in the array, return -1."
   ]
  },
  {
   "cell_type": "code",
   "execution_count": 6,
   "id": "00e64921",
   "metadata": {},
   "outputs": [
    {
     "name": "stdout",
     "output_type": "stream",
     "text": [
      "3\n",
      "-1\n"
     ]
    }
   ],
   "source": [
    "# User function template for Python\n",
    "\n",
    "class Solution:    \n",
    "    def binarysearch(self, arr, n, k):\n",
    "        low = 0\n",
    "        high = n - 1\n",
    "\n",
    "        while low <= high:\n",
    "            mid = (low + high) // 2\n",
    "            if arr[mid] == k:\n",
    "                return mid  # K found at index mid\n",
    "            elif arr[mid] < k:\n",
    "                low = mid + 1\n",
    "            else:\n",
    "                high = mid - 1\n",
    "\n",
    "        return -1  # K not found in the array\n",
    "\n",
    "# Example usage\n",
    "sol = Solution()\n",
    "\n",
    "arr1 = [1, 2, 3, 4, 5]\n",
    "k1 = 4\n",
    "print(sol.binarysearch(arr1, len(arr1), k1))  # Output: 3\n",
    "\n",
    "arr2 = [11, 22, 33, 44, 55]\n",
    "k2 = 445\n",
    "print(sol.binarysearch(arr2, len(arr2), k2))  # Output: -1\n"
   ]
  }
 ],
 "metadata": {
  "kernelspec": {
   "display_name": "Python 3 (ipykernel)",
   "language": "python",
   "name": "python3"
  },
  "language_info": {
   "codemirror_mode": {
    "name": "ipython",
    "version": 3
   },
   "file_extension": ".py",
   "mimetype": "text/x-python",
   "name": "python",
   "nbconvert_exporter": "python",
   "pygments_lexer": "ipython3",
   "version": "3.8.18"
  }
 },
 "nbformat": 4,
 "nbformat_minor": 5
}
